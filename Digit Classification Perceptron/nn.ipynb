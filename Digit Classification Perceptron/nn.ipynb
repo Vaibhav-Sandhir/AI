{
 "cells": [
  {
   "cell_type": "code",
   "execution_count": 2,
   "metadata": {},
   "outputs": [],
   "source": [
    "import numpy as np\n",
    "import pandas as pd\n",
    "import matplotlib.pyplot as plt"
   ]
  },
  {
   "cell_type": "code",
   "execution_count": 3,
   "metadata": {},
   "outputs": [
    {
     "name": "stdout",
     "output_type": "stream",
     "text": [
      "       label  pixel0  pixel1  pixel2  pixel3  pixel4  pixel5  pixel6  pixel7  \\\n",
      "0          1       0       0       0       0       0       0       0       0   \n",
      "1          0       0       0       0       0       0       0       0       0   \n",
      "2          1       0       0       0       0       0       0       0       0   \n",
      "3          4       0       0       0       0       0       0       0       0   \n",
      "4          0       0       0       0       0       0       0       0       0   \n",
      "...      ...     ...     ...     ...     ...     ...     ...     ...     ...   \n",
      "41995      0       0       0       0       0       0       0       0       0   \n",
      "41996      1       0       0       0       0       0       0       0       0   \n",
      "41997      7       0       0       0       0       0       0       0       0   \n",
      "41998      6       0       0       0       0       0       0       0       0   \n",
      "41999      9       0       0       0       0       0       0       0       0   \n",
      "\n",
      "       pixel8  ...  pixel774  pixel775  pixel776  pixel777  pixel778  \\\n",
      "0           0  ...         0         0         0         0         0   \n",
      "1           0  ...         0         0         0         0         0   \n",
      "2           0  ...         0         0         0         0         0   \n",
      "3           0  ...         0         0         0         0         0   \n",
      "4           0  ...         0         0         0         0         0   \n",
      "...       ...  ...       ...       ...       ...       ...       ...   \n",
      "41995       0  ...         0         0         0         0         0   \n",
      "41996       0  ...         0         0         0         0         0   \n",
      "41997       0  ...         0         0         0         0         0   \n",
      "41998       0  ...         0         0         0         0         0   \n",
      "41999       0  ...         0         0         0         0         0   \n",
      "\n",
      "       pixel779  pixel780  pixel781  pixel782  pixel783  \n",
      "0             0         0         0         0         0  \n",
      "1             0         0         0         0         0  \n",
      "2             0         0         0         0         0  \n",
      "3             0         0         0         0         0  \n",
      "4             0         0         0         0         0  \n",
      "...         ...       ...       ...       ...       ...  \n",
      "41995         0         0         0         0         0  \n",
      "41996         0         0         0         0         0  \n",
      "41997         0         0         0         0         0  \n",
      "41998         0         0         0         0         0  \n",
      "41999         0         0         0         0         0  \n",
      "\n",
      "[42000 rows x 785 columns]\n"
     ]
    }
   ],
   "source": [
    "data = pd.read_csv('train.csv')\n",
    "print(data)"
   ]
  },
  {
   "cell_type": "code",
   "execution_count": 4,
   "metadata": {},
   "outputs": [],
   "source": [
    "data = np.array(data)"
   ]
  },
  {
   "cell_type": "code",
   "execution_count": 52,
   "metadata": {},
   "outputs": [
    {
     "name": "stdout",
     "output_type": "stream",
     "text": [
      "42000\n"
     ]
    }
   ],
   "source": [
    "m, n = data.shape\n",
    "# data = m x n\n",
    "# m = number of images\n",
    "# n = 784 pixels\n",
    "data = data.T\n",
    "Y = data[0]\n",
    "X = data[1:n]\n",
    "X = X / 255.\n",
    "one_hot = np.zeros((10, Y.size))\n",
    "for i,num in enumerate(Y):\n",
    "    one_hot[num, i] = 1\n",
    "    \n",
    "one_hot\n",
    "\n",
    "print(X.shape[1])"
   ]
  },
  {
   "cell_type": "code",
   "execution_count": 6,
   "metadata": {},
   "outputs": [],
   "source": [
    "\n",
    "def initi_params():\n",
    "    W1 = np.random.rand(10, 784) - 0.5\n",
    "    B1 = np.random.rand(10, 1) - 0.5\n",
    "    W2 = np.random.rand(10, 10) - 0.5\n",
    "    B2 = np.random.rand(10, 1) - 0.5\n",
    "    return W1, B1, W2, B2"
   ]
  },
  {
   "cell_type": "code",
   "execution_count": 7,
   "metadata": {},
   "outputs": [],
   "source": [
    "def ReLU(Z):\n",
    "    return np.maximum(0, Z)"
   ]
  },
  {
   "cell_type": "code",
   "execution_count": 8,
   "metadata": {},
   "outputs": [],
   "source": [
    "def softmax(Z):\n",
    "    A = np.exp(Z) / sum(np.exp(Z))\n",
    "    return A"
   ]
  },
  {
   "cell_type": "code",
   "execution_count": 9,
   "metadata": {},
   "outputs": [],
   "source": [
    "def forward_propogation(W1, B1, W2, B2, X):\n",
    "    Z1 = W1 @ (X) + B1\n",
    "    A1 = ReLU(Z1)\n",
    "    Z2 = W2 @ (A1) + B2\n",
    "    A2 = softmax(Z2)\n",
    "    return Z1, A1, Z2, A2"
   ]
  },
  {
   "cell_type": "code",
   "execution_count": 10,
   "metadata": {},
   "outputs": [],
   "source": [
    "def one_hot(Y):\n",
    "    one_hot_Y = np.zeros((Y.size, Y.max() + 1))\n",
    "    one_hot_Y[np.arange(Y.size), Y] = 1\n",
    "    one_hot_Y = one_hot_Y.T\n",
    "    return one_hot_Y"
   ]
  },
  {
   "cell_type": "code",
   "execution_count": 11,
   "metadata": {},
   "outputs": [],
   "source": [
    "def derivative_ReLU(Z):\n",
    "    return Z > 0"
   ]
  },
  {
   "cell_type": "code",
   "execution_count": 12,
   "metadata": {},
   "outputs": [],
   "source": [
    "def back_propogation(Z1, A1, Z2, A2, W1, W2, X, Y):\n",
    "    m = Y.size\n",
    "    one_hot_Y = one_hot(Y)\n",
    "    dZ2 = A2 - one_hot_Y\n",
    "    dW2 = 1 / m * dZ2.dot(A1.T)\n",
    "    dB2 = 1 / m * np.sum(dZ2)\n",
    "    dZ1 = W2.T.dot(dZ2) * derivative_ReLU(Z1)\n",
    "    dW1 = 1 / m * dZ1.dot(X.T)\n",
    "    dB1 = 1 / m * np.sum(dZ1)\n",
    "    return dW1, dB1, dW2, dB2"
   ]
  },
  {
   "cell_type": "code",
   "execution_count": 13,
   "metadata": {},
   "outputs": [],
   "source": [
    "def update_parameters(W1, B1, W2, B2, dW1, dB1, dW2, dB2, alpha):\n",
    "    W1 = W1 - alpha * dW1\n",
    "    B1 = B1 - alpha * dB1\n",
    "    W2 = W2 - alpha * dW2\n",
    "    B2 = B2 - alpha * dB2\n",
    "    return W1, B1, W2, B2"
   ]
  },
  {
   "cell_type": "code",
   "execution_count": 14,
   "metadata": {},
   "outputs": [],
   "source": [
    "def get_predictions(A2):\n",
    "    return np.argmax(A2, 0)"
   ]
  },
  {
   "cell_type": "code",
   "execution_count": 15,
   "metadata": {},
   "outputs": [],
   "source": [
    "def get_accuracy(predictions, Y):\n",
    "    return np.sum(predictions == Y) / Y.size"
   ]
  },
  {
   "cell_type": "code",
   "execution_count": 16,
   "metadata": {},
   "outputs": [],
   "source": [
    "def gradient_descent(X, Y, iterations, alpha):\n",
    "    W1, B1, W2, B2 = initi_params()\n",
    "    for i in range(iterations):\n",
    "        Z1, A1, Z2, A2 = forward_propogation(W1, B1, W2, B2, X)\n",
    "        dW1, dB1, dW2, dB2 = back_propogation(Z1, A1, Z2, A2, W1, W2, X, Y)\n",
    "        W1, B1, W2, B2 = update_parameters(W1, B1, W2, B2, dW1, dB1, dW2, dB2, alpha)\n",
    "        if i % 10 == 0:\n",
    "            print(\"Accuracy: \", get_accuracy(get_predictions(A2), Y))   \n",
    "    return W1, B1, W2, B2      "
   ]
  },
  {
   "cell_type": "code",
   "execution_count": 17,
   "metadata": {},
   "outputs": [
    {
     "name": "stdout",
     "output_type": "stream",
     "text": [
      "Accuracy:  0.08973809523809524\n",
      "Accuracy:  0.1331190476190476\n",
      "Accuracy:  0.23097619047619047\n"
     ]
    },
    {
     "name": "stdout",
     "output_type": "stream",
     "text": [
      "Accuracy:  0.33640476190476193\n",
      "Accuracy:  0.4004761904761905\n",
      "Accuracy:  0.45416666666666666\n",
      "Accuracy:  0.4961190476190476\n",
      "Accuracy:  0.5214761904761904\n",
      "Accuracy:  0.5400238095238096\n",
      "Accuracy:  0.5549761904761905\n",
      "Accuracy:  0.5664285714285714\n",
      "Accuracy:  0.575\n",
      "Accuracy:  0.5836190476190476\n",
      "Accuracy:  0.587952380952381\n",
      "Accuracy:  0.5930714285714286\n",
      "Accuracy:  0.5982619047619048\n",
      "Accuracy:  0.6052619047619048\n",
      "Accuracy:  0.6133571428571428\n",
      "Accuracy:  0.6226428571428572\n",
      "Accuracy:  0.6316428571428572\n",
      "Accuracy:  0.6423095238095238\n",
      "Accuracy:  0.6530952380952381\n",
      "Accuracy:  0.662952380952381\n",
      "Accuracy:  0.6721666666666667\n",
      "Accuracy:  0.6807619047619048\n",
      "Accuracy:  0.6877857142857143\n",
      "Accuracy:  0.6952619047619047\n",
      "Accuracy:  0.7021428571428572\n",
      "Accuracy:  0.7086428571428571\n",
      "Accuracy:  0.714452380952381\n",
      "Accuracy:  0.7189285714285715\n",
      "Accuracy:  0.724\n",
      "Accuracy:  0.7284285714285714\n",
      "Accuracy:  0.7328333333333333\n",
      "Accuracy:  0.7365952380952381\n",
      "Accuracy:  0.7400714285714286\n",
      "Accuracy:  0.7432857142857143\n",
      "Accuracy:  0.7456904761904762\n",
      "Accuracy:  0.7481666666666666\n",
      "Accuracy:  0.7504761904761905\n",
      "Accuracy:  0.7529761904761905\n",
      "Accuracy:  0.7567857142857143\n",
      "Accuracy:  0.7598333333333334\n",
      "Accuracy:  0.7627142857142857\n",
      "Accuracy:  0.7648809523809523\n",
      "Accuracy:  0.7667619047619048\n",
      "Accuracy:  0.7687619047619048\n",
      "Accuracy:  0.7708095238095238\n",
      "Accuracy:  0.7722142857142857\n",
      "Accuracy:  0.7744285714285715\n",
      "Accuracy:  0.7761190476190476\n",
      "Accuracy:  0.7774047619047619\n",
      "Accuracy:  0.7784047619047619\n",
      "Accuracy:  0.7802619047619047\n",
      "Accuracy:  0.7816904761904762\n"
     ]
    },
    {
     "ename": "KeyboardInterrupt",
     "evalue": "",
     "output_type": "error",
     "traceback": [
      "\u001b[0;31m---------------------------------------------------------------------------\u001b[0m",
      "\u001b[0;31mKeyboardInterrupt\u001b[0m                         Traceback (most recent call last)",
      "Cell \u001b[0;32mIn[17], line 1\u001b[0m\n\u001b[0;32m----> 1\u001b[0m W1, B1, W2, B2 \u001b[38;5;241m=\u001b[39m \u001b[43mgradient_descent\u001b[49m\u001b[43m(\u001b[49m\u001b[43mX\u001b[49m\u001b[43m,\u001b[49m\u001b[43m \u001b[49m\u001b[43mY\u001b[49m\u001b[43m,\u001b[49m\u001b[43m \u001b[49m\u001b[38;5;241;43m1000\u001b[39;49m\u001b[43m,\u001b[49m\u001b[43m \u001b[49m\u001b[38;5;241;43m0.1\u001b[39;49m\u001b[43m)\u001b[49m\n",
      "Cell \u001b[0;32mIn[16], line 4\u001b[0m, in \u001b[0;36mgradient_descent\u001b[0;34m(X, Y, iterations, alpha)\u001b[0m\n\u001b[1;32m      2\u001b[0m W1, B1, W2, B2 \u001b[38;5;241m=\u001b[39m initi_params()\n\u001b[1;32m      3\u001b[0m \u001b[38;5;28;01mfor\u001b[39;00m i \u001b[38;5;129;01min\u001b[39;00m \u001b[38;5;28mrange\u001b[39m(iterations):\n\u001b[0;32m----> 4\u001b[0m     Z1, A1, Z2, A2 \u001b[38;5;241m=\u001b[39m \u001b[43mforward_propogation\u001b[49m\u001b[43m(\u001b[49m\u001b[43mW1\u001b[49m\u001b[43m,\u001b[49m\u001b[43m \u001b[49m\u001b[43mB1\u001b[49m\u001b[43m,\u001b[49m\u001b[43m \u001b[49m\u001b[43mW2\u001b[49m\u001b[43m,\u001b[49m\u001b[43m \u001b[49m\u001b[43mB2\u001b[49m\u001b[43m,\u001b[49m\u001b[43m \u001b[49m\u001b[43mX\u001b[49m\u001b[43m)\u001b[49m\n\u001b[1;32m      5\u001b[0m     dW1, dB1, dW2, dB2 \u001b[38;5;241m=\u001b[39m back_propogation(Z1, A1, Z2, A2, W1, W2, X, Y)\n\u001b[1;32m      6\u001b[0m     W1, B1, W2, B2 \u001b[38;5;241m=\u001b[39m update_parameters(W1, B1, W2, B2, dW1, dB1, dW2, dB2, alpha)\n",
      "Cell \u001b[0;32mIn[9], line 3\u001b[0m, in \u001b[0;36mforward_propogation\u001b[0;34m(W1, B1, W2, B2, X)\u001b[0m\n\u001b[1;32m      1\u001b[0m \u001b[38;5;28;01mdef\u001b[39;00m \u001b[38;5;21mforward_propogation\u001b[39m(W1, B1, W2, B2, X):\n\u001b[1;32m      2\u001b[0m     Z1 \u001b[38;5;241m=\u001b[39m W1 \u001b[38;5;241m@\u001b[39m (X) \u001b[38;5;241m+\u001b[39m B1\n\u001b[0;32m----> 3\u001b[0m     A1 \u001b[38;5;241m=\u001b[39m \u001b[43mReLU\u001b[49m\u001b[43m(\u001b[49m\u001b[43mZ1\u001b[49m\u001b[43m)\u001b[49m\n\u001b[1;32m      4\u001b[0m     Z2 \u001b[38;5;241m=\u001b[39m W2 \u001b[38;5;241m@\u001b[39m (A1) \u001b[38;5;241m+\u001b[39m B2\n\u001b[1;32m      5\u001b[0m     A2 \u001b[38;5;241m=\u001b[39m softmax(Z2)\n",
      "Cell \u001b[0;32mIn[7], line 1\u001b[0m, in \u001b[0;36mReLU\u001b[0;34m(Z)\u001b[0m\n\u001b[0;32m----> 1\u001b[0m \u001b[38;5;28;01mdef\u001b[39;00m \u001b[38;5;21mReLU\u001b[39m(Z):\n\u001b[1;32m      2\u001b[0m     \u001b[38;5;28;01mreturn\u001b[39;00m np\u001b[38;5;241m.\u001b[39mmaximum(\u001b[38;5;241m0\u001b[39m, Z)\n",
      "\u001b[0;31mKeyboardInterrupt\u001b[0m: "
     ]
    }
   ],
   "source": [
    "W1, B1, W2, B2 = gradient_descent(X, Y, 1000, 0.1)"
   ]
  }
 ],
 "metadata": {
  "kernelspec": {
   "display_name": "cuda",
   "language": "python",
   "name": "python3"
  },
  "language_info": {
   "codemirror_mode": {
    "name": "ipython",
    "version": 3
   },
   "file_extension": ".py",
   "mimetype": "text/x-python",
   "name": "python",
   "nbconvert_exporter": "python",
   "pygments_lexer": "ipython3",
   "version": "3.10.12"
  }
 },
 "nbformat": 4,
 "nbformat_minor": 2
}
